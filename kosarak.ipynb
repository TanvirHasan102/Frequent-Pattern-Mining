{
 "cells": [
  {
   "cell_type": "code",
   "execution_count": 1,
   "id": "f9409860",
   "metadata": {},
   "outputs": [
    {
     "name": "stdout",
     "output_type": "stream",
     "text": [
      "Requirement already satisfied: ipython-autotime in c:\\users\\tanvi\\appdata\\local\\programs\\python\\python39\\lib\\site-packages (0.3.1)\n",
      "Requirement already satisfied: ipython in c:\\users\\tanvi\\appdata\\local\\programs\\python\\python39\\lib\\site-packages (from ipython-autotime) (7.23.1)\n",
      "Requirement already satisfied: pygments in c:\\users\\tanvi\\appdata\\local\\programs\\python\\python39\\lib\\site-packages (from ipython->ipython-autotime) (2.9.0)\n",
      "Requirement already satisfied: traitlets>=4.2 in c:\\users\\tanvi\\appdata\\local\\programs\\python\\python39\\lib\\site-packages (from ipython->ipython-autotime) (5.0.5)\n",
      "Requirement already satisfied: colorama in c:\\users\\tanvi\\appdata\\local\\programs\\python\\python39\\lib\\site-packages (from ipython->ipython-autotime) (0.4.4)\n",
      "Requirement already satisfied: jedi>=0.16 in c:\\users\\tanvi\\appdata\\local\\programs\\python\\python39\\lib\\site-packages (from ipython->ipython-autotime) (0.18.0)\n",
      "Requirement already satisfied: matplotlib-inline in c:\\users\\tanvi\\appdata\\local\\programs\\python\\python39\\lib\\site-packages (from ipython->ipython-autotime) (0.1.2)\n",
      "Requirement already satisfied: prompt-toolkit!=3.0.0,!=3.0.1,<3.1.0,>=2.0.0 in c:\\users\\tanvi\\appdata\\local\\programs\\python\\python39\\lib\\site-packages (from ipython->ipython-autotime) (3.0.18)\n",
      "Requirement already satisfied: pickleshare in c:\\users\\tanvi\\appdata\\local\\programs\\python\\python39\\lib\\site-packages (from ipython->ipython-autotime) (0.7.5)\n",
      "Requirement already satisfied: setuptools>=18.5 in c:\\users\\tanvi\\appdata\\local\\programs\\python\\python39\\lib\\site-packages (from ipython->ipython-autotime) (56.0.0)\n",
      "Requirement already satisfied: backcall in c:\\users\\tanvi\\appdata\\local\\programs\\python\\python39\\lib\\site-packages (from ipython->ipython-autotime) (0.2.0)\n",
      "Requirement already satisfied: decorator in c:\\users\\tanvi\\appdata\\local\\programs\\python\\python39\\lib\\site-packages (from ipython->ipython-autotime) (5.0.9)\n",
      "Requirement already satisfied: parso<0.9.0,>=0.8.0 in c:\\users\\tanvi\\appdata\\local\\programs\\python\\python39\\lib\\site-packages (from jedi>=0.16->ipython->ipython-autotime) (0.8.2)\n",
      "Requirement already satisfied: wcwidth in c:\\users\\tanvi\\appdata\\local\\programs\\python\\python39\\lib\\site-packages (from prompt-toolkit!=3.0.0,!=3.0.1,<3.1.0,>=2.0.0->ipython->ipython-autotime) (0.2.5)\n",
      "Requirement already satisfied: ipython-genutils in c:\\users\\tanvi\\appdata\\local\\programs\\python\\python39\\lib\\site-packages (from traitlets>=4.2->ipython->ipython-autotime) (0.2.0)\n",
      "time: 0 ns (started: 2021-06-03 17:18:08 +06:00)\n"
     ]
    }
   ],
   "source": [
    "!pip install ipython-autotime\n",
    "%load_ext autotime"
   ]
  },
  {
   "cell_type": "markdown",
   "id": "92ca7ba0",
   "metadata": {},
   "source": [
    "# Apriori Algorithm"
   ]
  },
  {
   "cell_type": "code",
   "execution_count": 5,
   "id": "ea48bdc6",
   "metadata": {},
   "outputs": [
    {
     "data": {
      "text/html": [
       "<div>\n",
       "<style scoped>\n",
       "    .dataframe tbody tr th:only-of-type {\n",
       "        vertical-align: middle;\n",
       "    }\n",
       "\n",
       "    .dataframe tbody tr th {\n",
       "        vertical-align: top;\n",
       "    }\n",
       "\n",
       "    .dataframe thead th {\n",
       "        text-align: right;\n",
       "    }\n",
       "</style>\n",
       "<table border=\"1\" class=\"dataframe\">\n",
       "  <thead>\n",
       "    <tr style=\"text-align: right;\">\n",
       "      <th></th>\n",
       "      <th>support</th>\n",
       "      <th>itemsets</th>\n",
       "    </tr>\n",
       "  </thead>\n",
       "  <tbody>\n",
       "  </tbody>\n",
       "</table>\n",
       "</div>"
      ],
      "text/plain": [
       "Empty DataFrame\n",
       "Columns: [support, itemsets]\n",
       "Index: []"
      ]
     },
     "execution_count": 5,
     "metadata": {},
     "output_type": "execute_result"
    },
    {
     "name": "stdout",
     "output_type": "stream",
     "text": [
      "time: 2.14 s (started: 2021-06-03 17:20:49 +06:00)\n"
     ]
    }
   ],
   "source": [
    "import pandas as pd\n",
    "import numpy as np\n",
    "import pandas as pd\n",
    "from mlxtend.preprocessing import TransactionEncoder\n",
    "df = pd.read_csv(r'F:\\Academic Courses\\CSE 477\\project 2\\kosarak.dat.csv', header=0)\n",
    "\n",
    "TE=TransactionEncoder()\n",
    "TE_Arr= TE.fit(df).transform(df)\n",
    "df=pd.DataFrame(TE_Arr, columns=TE.columns_)\n",
    "\n",
    "\n",
    "df=pd.DataFrame(TE_Arr)\n",
    "\n",
    "from mlxtend.frequent_patterns import apriori\n",
    "frequent_itemset= apriori(df, min_support=0.75, use_colnames=True)\n",
    "frequent_itemset\n"
   ]
  },
  {
   "cell_type": "code",
   "execution_count": 6,
   "id": "1e5d3a3e",
   "metadata": {},
   "outputs": [
    {
     "data": {
      "text/html": [
       "<div>\n",
       "<style scoped>\n",
       "    .dataframe tbody tr th:only-of-type {\n",
       "        vertical-align: middle;\n",
       "    }\n",
       "\n",
       "    .dataframe tbody tr th {\n",
       "        vertical-align: top;\n",
       "    }\n",
       "\n",
       "    .dataframe thead th {\n",
       "        text-align: right;\n",
       "    }\n",
       "</style>\n",
       "<table border=\"1\" class=\"dataframe\">\n",
       "  <thead>\n",
       "    <tr style=\"text-align: right;\">\n",
       "      <th></th>\n",
       "      <th>support</th>\n",
       "      <th>itemsets</th>\n",
       "    </tr>\n",
       "  </thead>\n",
       "  <tbody>\n",
       "  </tbody>\n",
       "</table>\n",
       "</div>"
      ],
      "text/plain": [
       "Empty DataFrame\n",
       "Columns: [support, itemsets]\n",
       "Index: []"
      ]
     },
     "execution_count": 6,
     "metadata": {},
     "output_type": "execute_result"
    },
    {
     "name": "stdout",
     "output_type": "stream",
     "text": [
      "time: 1.64 s (started: 2021-06-03 17:21:32 +06:00)\n"
     ]
    }
   ],
   "source": [
    "import pandas as pd\n",
    "import numpy as np\n",
    "import pandas as pd\n",
    "from mlxtend.preprocessing import TransactionEncoder\n",
    "df = pd.read_csv(r'F:\\Academic Courses\\CSE 477\\project 2\\kosarak.dat.csv', header=0)\n",
    "\n",
    "TE=TransactionEncoder()\n",
    "TE_Arr= TE.fit(df).transform(df)\n",
    "df=pd.DataFrame(TE_Arr, columns=TE.columns_)\n",
    "\n",
    "\n",
    "df=pd.DataFrame(TE_Arr)\n",
    "\n",
    "from mlxtend.frequent_patterns import apriori\n",
    "frequent_itemset= apriori(df, min_support=0.8, use_colnames=True)\n",
    "frequent_itemset\n"
   ]
  },
  {
   "cell_type": "code",
   "execution_count": 7,
   "id": "c47a8d15",
   "metadata": {},
   "outputs": [
    {
     "data": {
      "text/html": [
       "<div>\n",
       "<style scoped>\n",
       "    .dataframe tbody tr th:only-of-type {\n",
       "        vertical-align: middle;\n",
       "    }\n",
       "\n",
       "    .dataframe tbody tr th {\n",
       "        vertical-align: top;\n",
       "    }\n",
       "\n",
       "    .dataframe thead th {\n",
       "        text-align: right;\n",
       "    }\n",
       "</style>\n",
       "<table border=\"1\" class=\"dataframe\">\n",
       "  <thead>\n",
       "    <tr style=\"text-align: right;\">\n",
       "      <th></th>\n",
       "      <th>support</th>\n",
       "      <th>itemsets</th>\n",
       "    </tr>\n",
       "  </thead>\n",
       "  <tbody>\n",
       "  </tbody>\n",
       "</table>\n",
       "</div>"
      ],
      "text/plain": [
       "Empty DataFrame\n",
       "Columns: [support, itemsets]\n",
       "Index: []"
      ]
     },
     "execution_count": 7,
     "metadata": {},
     "output_type": "execute_result"
    },
    {
     "name": "stdout",
     "output_type": "stream",
     "text": [
      "time: 2.06 s (started: 2021-06-03 17:22:07 +06:00)\n"
     ]
    }
   ],
   "source": [
    "import pandas as pd\n",
    "import numpy as np\n",
    "import pandas as pd\n",
    "from mlxtend.preprocessing import TransactionEncoder\n",
    "df = pd.read_csv(r'F:\\Academic Courses\\CSE 477\\project 2\\kosarak.dat.csv', header=0)\n",
    "\n",
    "TE=TransactionEncoder()\n",
    "TE_Arr= TE.fit(df).transform(df)\n",
    "df=pd.DataFrame(TE_Arr, columns=TE.columns_)\n",
    "\n",
    "\n",
    "df=pd.DataFrame(TE_Arr)\n",
    "\n",
    "from mlxtend.frequent_patterns import apriori\n",
    "frequent_itemset= apriori(df, min_support=0.85, use_colnames=True)\n",
    "frequent_itemset\n"
   ]
  },
  {
   "cell_type": "code",
   "execution_count": 8,
   "id": "c3b0e407",
   "metadata": {},
   "outputs": [
    {
     "data": {
      "text/html": [
       "<div>\n",
       "<style scoped>\n",
       "    .dataframe tbody tr th:only-of-type {\n",
       "        vertical-align: middle;\n",
       "    }\n",
       "\n",
       "    .dataframe tbody tr th {\n",
       "        vertical-align: top;\n",
       "    }\n",
       "\n",
       "    .dataframe thead th {\n",
       "        text-align: right;\n",
       "    }\n",
       "</style>\n",
       "<table border=\"1\" class=\"dataframe\">\n",
       "  <thead>\n",
       "    <tr style=\"text-align: right;\">\n",
       "      <th></th>\n",
       "      <th>support</th>\n",
       "      <th>itemsets</th>\n",
       "    </tr>\n",
       "  </thead>\n",
       "  <tbody>\n",
       "  </tbody>\n",
       "</table>\n",
       "</div>"
      ],
      "text/plain": [
       "Empty DataFrame\n",
       "Columns: [support, itemsets]\n",
       "Index: []"
      ]
     },
     "execution_count": 8,
     "metadata": {},
     "output_type": "execute_result"
    },
    {
     "name": "stdout",
     "output_type": "stream",
     "text": [
      "time: 2 s (started: 2021-06-03 17:22:36 +06:00)\n"
     ]
    }
   ],
   "source": [
    "import pandas as pd\n",
    "import numpy as np\n",
    "import pandas as pd\n",
    "from mlxtend.preprocessing import TransactionEncoder\n",
    "df = pd.read_csv(r'F:\\Academic Courses\\CSE 477\\project 2\\kosarak.dat.csv', header=0)\n",
    "\n",
    "TE=TransactionEncoder()\n",
    "TE_Arr= TE.fit(df).transform(df)\n",
    "df=pd.DataFrame(TE_Arr, columns=TE.columns_)\n",
    "\n",
    "\n",
    "df=pd.DataFrame(TE_Arr)\n",
    "\n",
    "from mlxtend.frequent_patterns import apriori\n",
    "frequent_itemset= apriori(df, min_support=0.9, use_colnames=True)\n",
    "frequent_itemset\n"
   ]
  },
  {
   "cell_type": "code",
   "execution_count": 9,
   "id": "5747748e",
   "metadata": {},
   "outputs": [
    {
     "data": {
      "text/html": [
       "<div>\n",
       "<style scoped>\n",
       "    .dataframe tbody tr th:only-of-type {\n",
       "        vertical-align: middle;\n",
       "    }\n",
       "\n",
       "    .dataframe tbody tr th {\n",
       "        vertical-align: top;\n",
       "    }\n",
       "\n",
       "    .dataframe thead th {\n",
       "        text-align: right;\n",
       "    }\n",
       "</style>\n",
       "<table border=\"1\" class=\"dataframe\">\n",
       "  <thead>\n",
       "    <tr style=\"text-align: right;\">\n",
       "      <th></th>\n",
       "      <th>support</th>\n",
       "      <th>itemsets</th>\n",
       "    </tr>\n",
       "  </thead>\n",
       "  <tbody>\n",
       "  </tbody>\n",
       "</table>\n",
       "</div>"
      ],
      "text/plain": [
       "Empty DataFrame\n",
       "Columns: [support, itemsets]\n",
       "Index: []"
      ]
     },
     "execution_count": 9,
     "metadata": {},
     "output_type": "execute_result"
    },
    {
     "name": "stdout",
     "output_type": "stream",
     "text": [
      "time: 1.67 s (started: 2021-06-03 17:23:12 +06:00)\n"
     ]
    }
   ],
   "source": [
    "import pandas as pd\n",
    "import numpy as np\n",
    "import pandas as pd\n",
    "from mlxtend.preprocessing import TransactionEncoder\n",
    "df = pd.read_csv(r'F:\\Academic Courses\\CSE 477\\project 2\\kosarak.dat.csv', header=0)\n",
    "\n",
    "TE=TransactionEncoder()\n",
    "TE_Arr= TE.fit(df).transform(df)\n",
    "df=pd.DataFrame(TE_Arr, columns=TE.columns_)\n",
    "\n",
    "\n",
    "df=pd.DataFrame(TE_Arr)\n",
    "\n",
    "from mlxtend.frequent_patterns import apriori\n",
    "frequent_itemset= apriori(df, min_support=0.95, use_colnames=True)\n",
    "frequent_itemset\n"
   ]
  },
  {
   "cell_type": "code",
   "execution_count": 13,
   "id": "3fd8236a",
   "metadata": {},
   "outputs": [
    {
     "data": {
      "text/html": [
       "<div>\n",
       "<style scoped>\n",
       "    .dataframe tbody tr th:only-of-type {\n",
       "        vertical-align: middle;\n",
       "    }\n",
       "\n",
       "    .dataframe tbody tr th {\n",
       "        vertical-align: top;\n",
       "    }\n",
       "\n",
       "    .dataframe thead th {\n",
       "        text-align: right;\n",
       "    }\n",
       "</style>\n",
       "<table border=\"1\" class=\"dataframe\">\n",
       "  <thead>\n",
       "    <tr style=\"text-align: right;\">\n",
       "      <th></th>\n",
       "      <th>support</th>\n",
       "      <th>itemsets</th>\n",
       "    </tr>\n",
       "  </thead>\n",
       "  <tbody>\n",
       "    <tr>\n",
       "      <th>0</th>\n",
       "      <td>0.060506</td>\n",
       "      <td>(0)</td>\n",
       "    </tr>\n",
       "    <tr>\n",
       "      <th>1</th>\n",
       "      <td>0.011201</td>\n",
       "      <td>(1)</td>\n",
       "    </tr>\n",
       "    <tr>\n",
       "      <th>2</th>\n",
       "      <td>0.019602</td>\n",
       "      <td>(2)</td>\n",
       "    </tr>\n",
       "    <tr>\n",
       "      <th>3</th>\n",
       "      <td>0.019602</td>\n",
       "      <td>(3)</td>\n",
       "    </tr>\n",
       "    <tr>\n",
       "      <th>4</th>\n",
       "      <td>0.019702</td>\n",
       "      <td>(4)</td>\n",
       "    </tr>\n",
       "    <tr>\n",
       "      <th>...</th>\n",
       "      <td>...</td>\n",
       "      <td>...</td>\n",
       "    </tr>\n",
       "    <tr>\n",
       "      <th>42746</th>\n",
       "      <td>0.000200</td>\n",
       "      <td>(0, 6, 7, 9, 11, 12, 13, 14, 15, 16, 17)</td>\n",
       "    </tr>\n",
       "    <tr>\n",
       "      <th>42747</th>\n",
       "      <td>0.000200</td>\n",
       "      <td>(0, 6, 7, 10, 11, 12, 13, 14, 15, 16, 17)</td>\n",
       "    </tr>\n",
       "    <tr>\n",
       "      <th>42748</th>\n",
       "      <td>0.000200</td>\n",
       "      <td>(0, 6, 8, 9, 11, 12, 13, 14, 15, 16, 17)</td>\n",
       "    </tr>\n",
       "    <tr>\n",
       "      <th>42749</th>\n",
       "      <td>0.000200</td>\n",
       "      <td>(0, 6, 8, 10, 11, 12, 13, 14, 15, 16, 17)</td>\n",
       "    </tr>\n",
       "    <tr>\n",
       "      <th>42750</th>\n",
       "      <td>0.000200</td>\n",
       "      <td>(0, 6, 9, 10, 11, 12, 13, 14, 15, 16, 17)</td>\n",
       "    </tr>\n",
       "  </tbody>\n",
       "</table>\n",
       "<p>42751 rows × 2 columns</p>\n",
       "</div>"
      ],
      "text/plain": [
       "        support                                   itemsets\n",
       "0      0.060506                                        (0)\n",
       "1      0.011201                                        (1)\n",
       "2      0.019602                                        (2)\n",
       "3      0.019602                                        (3)\n",
       "4      0.019702                                        (4)\n",
       "...         ...                                        ...\n",
       "42746  0.000200   (0, 6, 7, 9, 11, 12, 13, 14, 15, 16, 17)\n",
       "42747  0.000200  (0, 6, 7, 10, 11, 12, 13, 14, 15, 16, 17)\n",
       "42748  0.000200   (0, 6, 8, 9, 11, 12, 13, 14, 15, 16, 17)\n",
       "42749  0.000200  (0, 6, 8, 10, 11, 12, 13, 14, 15, 16, 17)\n",
       "42750  0.000200  (0, 6, 9, 10, 11, 12, 13, 14, 15, 16, 17)\n",
       "\n",
       "[42751 rows x 2 columns]"
      ]
     },
     "execution_count": 13,
     "metadata": {},
     "output_type": "execute_result"
    },
    {
     "name": "stdout",
     "output_type": "stream",
     "text": [
      "time: 25.2 s (started: 2021-06-03 17:25:04 +06:00)\n"
     ]
    }
   ],
   "source": [
    "import pandas as pd\n",
    "import numpy as np\n",
    "import pandas as pd\n",
    "from mlxtend.preprocessing import TransactionEncoder\n",
    "df = pd.read_csv(r'F:\\Academic Courses\\CSE 477\\project 2\\kosarak.dat.csv', header=0)\n",
    "\n",
    "TE=TransactionEncoder()\n",
    "TE_Arr= TE.fit(df).transform(df)\n",
    "df=pd.DataFrame(TE_Arr, columns=TE.columns_)\n",
    "\n",
    "\n",
    "df=pd.DataFrame(TE_Arr)\n",
    "\n",
    "from mlxtend.frequent_patterns import apriori\n",
    "frequent_itemset= apriori(df, min_support=0.0001, use_colnames=True)\n",
    "frequent_itemset\n"
   ]
  },
  {
   "cell_type": "code",
   "execution_count": 14,
   "id": "772dc0f0",
   "metadata": {},
   "outputs": [
    {
     "data": {
      "text/html": [
       "<div>\n",
       "<style scoped>\n",
       "    .dataframe tbody tr th:only-of-type {\n",
       "        vertical-align: middle;\n",
       "    }\n",
       "\n",
       "    .dataframe tbody tr th {\n",
       "        vertical-align: top;\n",
       "    }\n",
       "\n",
       "    .dataframe thead th {\n",
       "        text-align: right;\n",
       "    }\n",
       "</style>\n",
       "<table border=\"1\" class=\"dataframe\">\n",
       "  <thead>\n",
       "    <tr style=\"text-align: right;\">\n",
       "      <th></th>\n",
       "      <th>support</th>\n",
       "      <th>itemsets</th>\n",
       "    </tr>\n",
       "  </thead>\n",
       "  <tbody>\n",
       "    <tr>\n",
       "      <th>0</th>\n",
       "      <td>0.060506</td>\n",
       "      <td>(0)</td>\n",
       "    </tr>\n",
       "    <tr>\n",
       "      <th>1</th>\n",
       "      <td>0.011201</td>\n",
       "      <td>(1)</td>\n",
       "    </tr>\n",
       "    <tr>\n",
       "      <th>2</th>\n",
       "      <td>0.019602</td>\n",
       "      <td>(2)</td>\n",
       "    </tr>\n",
       "    <tr>\n",
       "      <th>3</th>\n",
       "      <td>0.019602</td>\n",
       "      <td>(3)</td>\n",
       "    </tr>\n",
       "    <tr>\n",
       "      <th>4</th>\n",
       "      <td>0.019702</td>\n",
       "      <td>(4)</td>\n",
       "    </tr>\n",
       "    <tr>\n",
       "      <th>...</th>\n",
       "      <td>...</td>\n",
       "      <td>...</td>\n",
       "    </tr>\n",
       "    <tr>\n",
       "      <th>16890</th>\n",
       "      <td>0.000600</td>\n",
       "      <td>(0, 2, 5, 6, 11, 12, 13, 14, 15, 16, 17)</td>\n",
       "    </tr>\n",
       "    <tr>\n",
       "      <th>16891</th>\n",
       "      <td>0.000600</td>\n",
       "      <td>(0, 3, 4, 5, 11, 12, 13, 14, 15, 16, 17)</td>\n",
       "    </tr>\n",
       "    <tr>\n",
       "      <th>16892</th>\n",
       "      <td>0.000600</td>\n",
       "      <td>(0, 3, 4, 6, 11, 12, 13, 14, 15, 16, 17)</td>\n",
       "    </tr>\n",
       "    <tr>\n",
       "      <th>16893</th>\n",
       "      <td>0.000600</td>\n",
       "      <td>(0, 3, 5, 6, 11, 12, 13, 14, 15, 16, 17)</td>\n",
       "    </tr>\n",
       "    <tr>\n",
       "      <th>16894</th>\n",
       "      <td>0.000600</td>\n",
       "      <td>(0, 4, 5, 6, 11, 12, 13, 14, 15, 16, 17)</td>\n",
       "    </tr>\n",
       "  </tbody>\n",
       "</table>\n",
       "<p>16895 rows × 2 columns</p>\n",
       "</div>"
      ],
      "text/plain": [
       "        support                                  itemsets\n",
       "0      0.060506                                       (0)\n",
       "1      0.011201                                       (1)\n",
       "2      0.019602                                       (2)\n",
       "3      0.019602                                       (3)\n",
       "4      0.019702                                       (4)\n",
       "...         ...                                       ...\n",
       "16890  0.000600  (0, 2, 5, 6, 11, 12, 13, 14, 15, 16, 17)\n",
       "16891  0.000600  (0, 3, 4, 5, 11, 12, 13, 14, 15, 16, 17)\n",
       "16892  0.000600  (0, 3, 4, 6, 11, 12, 13, 14, 15, 16, 17)\n",
       "16893  0.000600  (0, 3, 5, 6, 11, 12, 13, 14, 15, 16, 17)\n",
       "16894  0.000600  (0, 4, 5, 6, 11, 12, 13, 14, 15, 16, 17)\n",
       "\n",
       "[16895 rows x 2 columns]"
      ]
     },
     "execution_count": 14,
     "metadata": {},
     "output_type": "execute_result"
    },
    {
     "name": "stdout",
     "output_type": "stream",
     "text": [
      "time: 11.7 s (started: 2021-06-03 17:26:51 +06:00)\n"
     ]
    }
   ],
   "source": [
    "import pandas as pd\n",
    "import numpy as np\n",
    "import pandas as pd\n",
    "from mlxtend.preprocessing import TransactionEncoder\n",
    "df = pd.read_csv(r'F:\\Academic Courses\\CSE 477\\project 2\\kosarak.dat.csv', header=0)\n",
    "\n",
    "TE=TransactionEncoder()\n",
    "TE_Arr= TE.fit(df).transform(df)\n",
    "df=pd.DataFrame(TE_Arr, columns=TE.columns_)\n",
    "\n",
    "\n",
    "df=pd.DataFrame(TE_Arr)\n",
    "\n",
    "from mlxtend.frequent_patterns import apriori\n",
    "frequent_itemset= apriori(df, min_support=0.0005, use_colnames=True)\n",
    "frequent_itemset\n"
   ]
  },
  {
   "cell_type": "code",
   "execution_count": 15,
   "id": "6796ad00",
   "metadata": {},
   "outputs": [
    {
     "data": {
      "text/html": [
       "<div>\n",
       "<style scoped>\n",
       "    .dataframe tbody tr th:only-of-type {\n",
       "        vertical-align: middle;\n",
       "    }\n",
       "\n",
       "    .dataframe tbody tr th {\n",
       "        vertical-align: top;\n",
       "    }\n",
       "\n",
       "    .dataframe thead th {\n",
       "        text-align: right;\n",
       "    }\n",
       "</style>\n",
       "<table border=\"1\" class=\"dataframe\">\n",
       "  <thead>\n",
       "    <tr style=\"text-align: right;\">\n",
       "      <th></th>\n",
       "      <th>support</th>\n",
       "      <th>itemsets</th>\n",
       "    </tr>\n",
       "  </thead>\n",
       "  <tbody>\n",
       "    <tr>\n",
       "      <th>0</th>\n",
       "      <td>0.060506</td>\n",
       "      <td>(0)</td>\n",
       "    </tr>\n",
       "    <tr>\n",
       "      <th>1</th>\n",
       "      <td>0.011201</td>\n",
       "      <td>(1)</td>\n",
       "    </tr>\n",
       "    <tr>\n",
       "      <th>2</th>\n",
       "      <td>0.019602</td>\n",
       "      <td>(2)</td>\n",
       "    </tr>\n",
       "    <tr>\n",
       "      <th>3</th>\n",
       "      <td>0.019602</td>\n",
       "      <td>(3)</td>\n",
       "    </tr>\n",
       "    <tr>\n",
       "      <th>4</th>\n",
       "      <td>0.019702</td>\n",
       "      <td>(4)</td>\n",
       "    </tr>\n",
       "    <tr>\n",
       "      <th>...</th>\n",
       "      <td>...</td>\n",
       "      <td>...</td>\n",
       "    </tr>\n",
       "    <tr>\n",
       "      <th>12026</th>\n",
       "      <td>0.002900</td>\n",
       "      <td>(0, 5, 10, 11, 12, 13, 14, 15, 16, 17)</td>\n",
       "    </tr>\n",
       "    <tr>\n",
       "      <th>12027</th>\n",
       "      <td>0.003000</td>\n",
       "      <td>(0, 6, 7, 11, 12, 13, 14, 15, 16, 17)</td>\n",
       "    </tr>\n",
       "    <tr>\n",
       "      <th>12028</th>\n",
       "      <td>0.002900</td>\n",
       "      <td>(0, 6, 8, 11, 12, 13, 14, 15, 16, 17)</td>\n",
       "    </tr>\n",
       "    <tr>\n",
       "      <th>12029</th>\n",
       "      <td>0.002900</td>\n",
       "      <td>(0, 6, 9, 11, 12, 13, 14, 15, 16, 17)</td>\n",
       "    </tr>\n",
       "    <tr>\n",
       "      <th>12030</th>\n",
       "      <td>0.002900</td>\n",
       "      <td>(0, 6, 10, 11, 12, 13, 14, 15, 16, 17)</td>\n",
       "    </tr>\n",
       "  </tbody>\n",
       "</table>\n",
       "<p>12031 rows × 2 columns</p>\n",
       "</div>"
      ],
      "text/plain": [
       "        support                                itemsets\n",
       "0      0.060506                                     (0)\n",
       "1      0.011201                                     (1)\n",
       "2      0.019602                                     (2)\n",
       "3      0.019602                                     (3)\n",
       "4      0.019702                                     (4)\n",
       "...         ...                                     ...\n",
       "12026  0.002900  (0, 5, 10, 11, 12, 13, 14, 15, 16, 17)\n",
       "12027  0.003000   (0, 6, 7, 11, 12, 13, 14, 15, 16, 17)\n",
       "12028  0.002900   (0, 6, 8, 11, 12, 13, 14, 15, 16, 17)\n",
       "12029  0.002900   (0, 6, 9, 11, 12, 13, 14, 15, 16, 17)\n",
       "12030  0.002900  (0, 6, 10, 11, 12, 13, 14, 15, 16, 17)\n",
       "\n",
       "[12031 rows x 2 columns]"
      ]
     },
     "execution_count": 15,
     "metadata": {},
     "output_type": "execute_result"
    },
    {
     "name": "stdout",
     "output_type": "stream",
     "text": [
      "time: 6.58 s (started: 2021-06-03 17:27:55 +06:00)\n"
     ]
    }
   ],
   "source": [
    "import pandas as pd\n",
    "import numpy as np\n",
    "import pandas as pd\n",
    "from mlxtend.preprocessing import TransactionEncoder\n",
    "df = pd.read_csv(r'F:\\Academic Courses\\CSE 477\\project 2\\kosarak.dat.csv', header=0)\n",
    "\n",
    "TE=TransactionEncoder()\n",
    "TE_Arr= TE.fit(df).transform(df)\n",
    "df=pd.DataFrame(TE_Arr, columns=TE.columns_)\n",
    "\n",
    "\n",
    "df=pd.DataFrame(TE_Arr)\n",
    "\n",
    "from mlxtend.frequent_patterns import apriori\n",
    "frequent_itemset= apriori(df, min_support=0.0015, use_colnames=True)\n",
    "frequent_itemset\n"
   ]
  },
  {
   "cell_type": "markdown",
   "id": "539e8647",
   "metadata": {},
   "source": [
    "# FP Growth"
   ]
  },
  {
   "cell_type": "code",
   "execution_count": 24,
   "id": "561fff80",
   "metadata": {},
   "outputs": [
    {
     "data": {
      "text/html": [
       "<div>\n",
       "<style scoped>\n",
       "    .dataframe tbody tr th:only-of-type {\n",
       "        vertical-align: middle;\n",
       "    }\n",
       "\n",
       "    .dataframe tbody tr th {\n",
       "        vertical-align: top;\n",
       "    }\n",
       "\n",
       "    .dataframe thead th {\n",
       "        text-align: right;\n",
       "    }\n",
       "</style>\n",
       "<table border=\"1\" class=\"dataframe\">\n",
       "  <thead>\n",
       "    <tr style=\"text-align: right;\">\n",
       "      <th></th>\n",
       "      <th>support</th>\n",
       "      <th>itemsets</th>\n",
       "    </tr>\n",
       "  </thead>\n",
       "  <tbody>\n",
       "  </tbody>\n",
       "</table>\n",
       "</div>"
      ],
      "text/plain": [
       "Empty DataFrame\n",
       "Columns: [support, itemsets]\n",
       "Index: []"
      ]
     },
     "execution_count": 24,
     "metadata": {},
     "output_type": "execute_result"
    },
    {
     "name": "stdout",
     "output_type": "stream",
     "text": [
      "time: 281 ms (started: 2021-06-03 17:31:09 +06:00)\n"
     ]
    }
   ],
   "source": [
    "from mlxtend.frequent_patterns import fpgrowth\n",
    "fpgrowth(df, min_support=0.75)\n"
   ]
  },
  {
   "cell_type": "code",
   "execution_count": 25,
   "id": "a2750e27",
   "metadata": {},
   "outputs": [
    {
     "data": {
      "text/html": [
       "<div>\n",
       "<style scoped>\n",
       "    .dataframe tbody tr th:only-of-type {\n",
       "        vertical-align: middle;\n",
       "    }\n",
       "\n",
       "    .dataframe tbody tr th {\n",
       "        vertical-align: top;\n",
       "    }\n",
       "\n",
       "    .dataframe thead th {\n",
       "        text-align: right;\n",
       "    }\n",
       "</style>\n",
       "<table border=\"1\" class=\"dataframe\">\n",
       "  <thead>\n",
       "    <tr style=\"text-align: right;\">\n",
       "      <th></th>\n",
       "      <th>support</th>\n",
       "      <th>itemsets</th>\n",
       "    </tr>\n",
       "  </thead>\n",
       "  <tbody>\n",
       "  </tbody>\n",
       "</table>\n",
       "</div>"
      ],
      "text/plain": [
       "Empty DataFrame\n",
       "Columns: [support, itemsets]\n",
       "Index: []"
      ]
     },
     "execution_count": 25,
     "metadata": {},
     "output_type": "execute_result"
    },
    {
     "name": "stdout",
     "output_type": "stream",
     "text": [
      "time: 296 ms (started: 2021-06-03 17:31:33 +06:00)\n"
     ]
    }
   ],
   "source": [
    "fpgrowth(df, min_support=0.8)"
   ]
  },
  {
   "cell_type": "code",
   "execution_count": 26,
   "id": "e2b0164f",
   "metadata": {},
   "outputs": [
    {
     "data": {
      "text/html": [
       "<div>\n",
       "<style scoped>\n",
       "    .dataframe tbody tr th:only-of-type {\n",
       "        vertical-align: middle;\n",
       "    }\n",
       "\n",
       "    .dataframe tbody tr th {\n",
       "        vertical-align: top;\n",
       "    }\n",
       "\n",
       "    .dataframe thead th {\n",
       "        text-align: right;\n",
       "    }\n",
       "</style>\n",
       "<table border=\"1\" class=\"dataframe\">\n",
       "  <thead>\n",
       "    <tr style=\"text-align: right;\">\n",
       "      <th></th>\n",
       "      <th>support</th>\n",
       "      <th>itemsets</th>\n",
       "    </tr>\n",
       "  </thead>\n",
       "  <tbody>\n",
       "  </tbody>\n",
       "</table>\n",
       "</div>"
      ],
      "text/plain": [
       "Empty DataFrame\n",
       "Columns: [support, itemsets]\n",
       "Index: []"
      ]
     },
     "execution_count": 26,
     "metadata": {},
     "output_type": "execute_result"
    },
    {
     "name": "stdout",
     "output_type": "stream",
     "text": [
      "time: 281 ms (started: 2021-06-03 17:31:52 +06:00)\n"
     ]
    }
   ],
   "source": [
    "fpgrowth(df, min_support=0.85)"
   ]
  },
  {
   "cell_type": "code",
   "execution_count": 27,
   "id": "bc878366",
   "metadata": {},
   "outputs": [
    {
     "data": {
      "text/html": [
       "<div>\n",
       "<style scoped>\n",
       "    .dataframe tbody tr th:only-of-type {\n",
       "        vertical-align: middle;\n",
       "    }\n",
       "\n",
       "    .dataframe tbody tr th {\n",
       "        vertical-align: top;\n",
       "    }\n",
       "\n",
       "    .dataframe thead th {\n",
       "        text-align: right;\n",
       "    }\n",
       "</style>\n",
       "<table border=\"1\" class=\"dataframe\">\n",
       "  <thead>\n",
       "    <tr style=\"text-align: right;\">\n",
       "      <th></th>\n",
       "      <th>support</th>\n",
       "      <th>itemsets</th>\n",
       "    </tr>\n",
       "  </thead>\n",
       "  <tbody>\n",
       "  </tbody>\n",
       "</table>\n",
       "</div>"
      ],
      "text/plain": [
       "Empty DataFrame\n",
       "Columns: [support, itemsets]\n",
       "Index: []"
      ]
     },
     "execution_count": 27,
     "metadata": {},
     "output_type": "execute_result"
    },
    {
     "name": "stdout",
     "output_type": "stream",
     "text": [
      "time: 125 ms (started: 2021-06-03 17:32:20 +06:00)\n"
     ]
    }
   ],
   "source": [
    "fpgrowth(df, min_support=0.9)"
   ]
  },
  {
   "cell_type": "code",
   "execution_count": 28,
   "id": "142744da",
   "metadata": {},
   "outputs": [
    {
     "data": {
      "text/html": [
       "<div>\n",
       "<style scoped>\n",
       "    .dataframe tbody tr th:only-of-type {\n",
       "        vertical-align: middle;\n",
       "    }\n",
       "\n",
       "    .dataframe tbody tr th {\n",
       "        vertical-align: top;\n",
       "    }\n",
       "\n",
       "    .dataframe thead th {\n",
       "        text-align: right;\n",
       "    }\n",
       "</style>\n",
       "<table border=\"1\" class=\"dataframe\">\n",
       "  <thead>\n",
       "    <tr style=\"text-align: right;\">\n",
       "      <th></th>\n",
       "      <th>support</th>\n",
       "      <th>itemsets</th>\n",
       "    </tr>\n",
       "  </thead>\n",
       "  <tbody>\n",
       "  </tbody>\n",
       "</table>\n",
       "</div>"
      ],
      "text/plain": [
       "Empty DataFrame\n",
       "Columns: [support, itemsets]\n",
       "Index: []"
      ]
     },
     "execution_count": 28,
     "metadata": {},
     "output_type": "execute_result"
    },
    {
     "name": "stdout",
     "output_type": "stream",
     "text": [
      "time: 109 ms (started: 2021-06-03 17:32:38 +06:00)\n"
     ]
    }
   ],
   "source": [
    "fpgrowth(df, min_support=0.95)"
   ]
  },
  {
   "cell_type": "code",
   "execution_count": 29,
   "id": "2570351e",
   "metadata": {},
   "outputs": [
    {
     "data": {
      "text/html": [
       "<div>\n",
       "<style scoped>\n",
       "    .dataframe tbody tr th:only-of-type {\n",
       "        vertical-align: middle;\n",
       "    }\n",
       "\n",
       "    .dataframe tbody tr th {\n",
       "        vertical-align: top;\n",
       "    }\n",
       "\n",
       "    .dataframe thead th {\n",
       "        text-align: right;\n",
       "    }\n",
       "</style>\n",
       "<table border=\"1\" class=\"dataframe\">\n",
       "  <thead>\n",
       "    <tr style=\"text-align: right;\">\n",
       "      <th></th>\n",
       "      <th>support</th>\n",
       "      <th>itemsets</th>\n",
       "    </tr>\n",
       "  </thead>\n",
       "  <tbody>\n",
       "    <tr>\n",
       "      <th>0</th>\n",
       "      <td>0.019602</td>\n",
       "      <td>(2)</td>\n",
       "    </tr>\n",
       "    <tr>\n",
       "      <th>1</th>\n",
       "      <td>0.019602</td>\n",
       "      <td>(3)</td>\n",
       "    </tr>\n",
       "    <tr>\n",
       "      <th>2</th>\n",
       "      <td>0.019702</td>\n",
       "      <td>(4)</td>\n",
       "    </tr>\n",
       "    <tr>\n",
       "      <th>3</th>\n",
       "      <td>0.060506</td>\n",
       "      <td>(17)</td>\n",
       "    </tr>\n",
       "    <tr>\n",
       "      <th>4</th>\n",
       "      <td>0.060506</td>\n",
       "      <td>(12)</td>\n",
       "    </tr>\n",
       "    <tr>\n",
       "      <th>...</th>\n",
       "      <td>...</td>\n",
       "      <td>...</td>\n",
       "    </tr>\n",
       "    <tr>\n",
       "      <th>42746</th>\n",
       "      <td>0.000200</td>\n",
       "      <td>(1, 6, 10, 11, 12, 13, 14, 15, 16, 17)</td>\n",
       "    </tr>\n",
       "    <tr>\n",
       "      <th>42747</th>\n",
       "      <td>0.000200</td>\n",
       "      <td>(0, 1, 6, 10, 11, 12, 14, 15, 16, 17)</td>\n",
       "    </tr>\n",
       "    <tr>\n",
       "      <th>42748</th>\n",
       "      <td>0.000200</td>\n",
       "      <td>(0, 1, 6, 10, 11, 12, 13, 15, 16, 17)</td>\n",
       "    </tr>\n",
       "    <tr>\n",
       "      <th>42749</th>\n",
       "      <td>0.000200</td>\n",
       "      <td>(0, 1, 6, 10, 11, 12, 13, 14, 16, 17)</td>\n",
       "    </tr>\n",
       "    <tr>\n",
       "      <th>42750</th>\n",
       "      <td>0.000200</td>\n",
       "      <td>(0, 1, 6, 10, 11, 12, 13, 14, 15, 16, 17)</td>\n",
       "    </tr>\n",
       "  </tbody>\n",
       "</table>\n",
       "<p>42751 rows × 2 columns</p>\n",
       "</div>"
      ],
      "text/plain": [
       "        support                                   itemsets\n",
       "0      0.019602                                        (2)\n",
       "1      0.019602                                        (3)\n",
       "2      0.019702                                        (4)\n",
       "3      0.060506                                       (17)\n",
       "4      0.060506                                       (12)\n",
       "...         ...                                        ...\n",
       "42746  0.000200     (1, 6, 10, 11, 12, 13, 14, 15, 16, 17)\n",
       "42747  0.000200      (0, 1, 6, 10, 11, 12, 14, 15, 16, 17)\n",
       "42748  0.000200      (0, 1, 6, 10, 11, 12, 13, 15, 16, 17)\n",
       "42749  0.000200      (0, 1, 6, 10, 11, 12, 13, 14, 16, 17)\n",
       "42750  0.000200  (0, 1, 6, 10, 11, 12, 13, 14, 15, 16, 17)\n",
       "\n",
       "[42751 rows x 2 columns]"
      ]
     },
     "execution_count": 29,
     "metadata": {},
     "output_type": "execute_result"
    },
    {
     "name": "stdout",
     "output_type": "stream",
     "text": [
      "time: 547 ms (started: 2021-06-03 17:33:07 +06:00)\n"
     ]
    }
   ],
   "source": [
    "fpgrowth(df, min_support=0.0001)"
   ]
  },
  {
   "cell_type": "code",
   "execution_count": 32,
   "id": "079f617b",
   "metadata": {},
   "outputs": [
    {
     "data": {
      "text/html": [
       "<div>\n",
       "<style scoped>\n",
       "    .dataframe tbody tr th:only-of-type {\n",
       "        vertical-align: middle;\n",
       "    }\n",
       "\n",
       "    .dataframe tbody tr th {\n",
       "        vertical-align: top;\n",
       "    }\n",
       "\n",
       "    .dataframe thead th {\n",
       "        text-align: right;\n",
       "    }\n",
       "</style>\n",
       "<table border=\"1\" class=\"dataframe\">\n",
       "  <thead>\n",
       "    <tr style=\"text-align: right;\">\n",
       "      <th></th>\n",
       "      <th>support</th>\n",
       "      <th>itemsets</th>\n",
       "    </tr>\n",
       "  </thead>\n",
       "  <tbody>\n",
       "    <tr>\n",
       "      <th>0</th>\n",
       "      <td>0.019602</td>\n",
       "      <td>(2)</td>\n",
       "    </tr>\n",
       "    <tr>\n",
       "      <th>1</th>\n",
       "      <td>0.019602</td>\n",
       "      <td>(3)</td>\n",
       "    </tr>\n",
       "    <tr>\n",
       "      <th>2</th>\n",
       "      <td>0.019702</td>\n",
       "      <td>(4)</td>\n",
       "    </tr>\n",
       "    <tr>\n",
       "      <th>3</th>\n",
       "      <td>0.060506</td>\n",
       "      <td>(17)</td>\n",
       "    </tr>\n",
       "    <tr>\n",
       "      <th>4</th>\n",
       "      <td>0.060506</td>\n",
       "      <td>(12)</td>\n",
       "    </tr>\n",
       "    <tr>\n",
       "      <th>...</th>\n",
       "      <td>...</td>\n",
       "      <td>...</td>\n",
       "    </tr>\n",
       "    <tr>\n",
       "      <th>16890</th>\n",
       "      <td>0.001100</td>\n",
       "      <td>(0, 1, 10, 12, 13, 14, 15, 16, 17)</td>\n",
       "    </tr>\n",
       "    <tr>\n",
       "      <th>16891</th>\n",
       "      <td>0.001100</td>\n",
       "      <td>(0, 1, 10, 11, 12, 13, 14, 15, 17)</td>\n",
       "    </tr>\n",
       "    <tr>\n",
       "      <th>16892</th>\n",
       "      <td>0.001100</td>\n",
       "      <td>(0, 1, 10, 11, 13, 14, 15, 16, 17)</td>\n",
       "    </tr>\n",
       "    <tr>\n",
       "      <th>16893</th>\n",
       "      <td>0.001100</td>\n",
       "      <td>(0, 1, 10, 11, 12, 13, 14, 15, 16)</td>\n",
       "    </tr>\n",
       "    <tr>\n",
       "      <th>16894</th>\n",
       "      <td>0.001100</td>\n",
       "      <td>(0, 1, 10, 11, 12, 13, 14, 15, 16, 17)</td>\n",
       "    </tr>\n",
       "  </tbody>\n",
       "</table>\n",
       "<p>16895 rows × 2 columns</p>\n",
       "</div>"
      ],
      "text/plain": [
       "        support                                itemsets\n",
       "0      0.019602                                     (2)\n",
       "1      0.019602                                     (3)\n",
       "2      0.019702                                     (4)\n",
       "3      0.060506                                    (17)\n",
       "4      0.060506                                    (12)\n",
       "...         ...                                     ...\n",
       "16890  0.001100      (0, 1, 10, 12, 13, 14, 15, 16, 17)\n",
       "16891  0.001100      (0, 1, 10, 11, 12, 13, 14, 15, 17)\n",
       "16892  0.001100      (0, 1, 10, 11, 13, 14, 15, 16, 17)\n",
       "16893  0.001100      (0, 1, 10, 11, 12, 13, 14, 15, 16)\n",
       "16894  0.001100  (0, 1, 10, 11, 12, 13, 14, 15, 16, 17)\n",
       "\n",
       "[16895 rows x 2 columns]"
      ]
     },
     "execution_count": 32,
     "metadata": {},
     "output_type": "execute_result"
    },
    {
     "name": "stdout",
     "output_type": "stream",
     "text": [
      "time: 313 ms (started: 2021-06-03 17:34:00 +06:00)\n"
     ]
    }
   ],
   "source": [
    "fpgrowth(df, min_support=0.0005)"
   ]
  },
  {
   "cell_type": "code",
   "execution_count": 33,
   "id": "324af0bb",
   "metadata": {},
   "outputs": [
    {
     "data": {
      "text/html": [
       "<div>\n",
       "<style scoped>\n",
       "    .dataframe tbody tr th:only-of-type {\n",
       "        vertical-align: middle;\n",
       "    }\n",
       "\n",
       "    .dataframe tbody tr th {\n",
       "        vertical-align: top;\n",
       "    }\n",
       "\n",
       "    .dataframe thead th {\n",
       "        text-align: right;\n",
       "    }\n",
       "</style>\n",
       "<table border=\"1\" class=\"dataframe\">\n",
       "  <thead>\n",
       "    <tr style=\"text-align: right;\">\n",
       "      <th></th>\n",
       "      <th>support</th>\n",
       "      <th>itemsets</th>\n",
       "    </tr>\n",
       "  </thead>\n",
       "  <tbody>\n",
       "    <tr>\n",
       "      <th>0</th>\n",
       "      <td>0.019602</td>\n",
       "      <td>(2)</td>\n",
       "    </tr>\n",
       "    <tr>\n",
       "      <th>1</th>\n",
       "      <td>0.019602</td>\n",
       "      <td>(3)</td>\n",
       "    </tr>\n",
       "    <tr>\n",
       "      <th>2</th>\n",
       "      <td>0.019702</td>\n",
       "      <td>(4)</td>\n",
       "    </tr>\n",
       "    <tr>\n",
       "      <th>3</th>\n",
       "      <td>0.060506</td>\n",
       "      <td>(17)</td>\n",
       "    </tr>\n",
       "    <tr>\n",
       "      <th>4</th>\n",
       "      <td>0.060506</td>\n",
       "      <td>(12)</td>\n",
       "    </tr>\n",
       "    <tr>\n",
       "      <th>...</th>\n",
       "      <td>...</td>\n",
       "      <td>...</td>\n",
       "    </tr>\n",
       "    <tr>\n",
       "      <th>12026</th>\n",
       "      <td>0.001900</td>\n",
       "      <td>(0, 1, 7, 12, 13, 14, 15, 16, 17)</td>\n",
       "    </tr>\n",
       "    <tr>\n",
       "      <th>12027</th>\n",
       "      <td>0.001900</td>\n",
       "      <td>(0, 1, 7, 11, 12, 13, 14, 15, 17)</td>\n",
       "    </tr>\n",
       "    <tr>\n",
       "      <th>12028</th>\n",
       "      <td>0.001900</td>\n",
       "      <td>(0, 1, 7, 11, 13, 14, 15, 16, 17)</td>\n",
       "    </tr>\n",
       "    <tr>\n",
       "      <th>12029</th>\n",
       "      <td>0.001900</td>\n",
       "      <td>(0, 1, 7, 11, 12, 13, 14, 15, 16)</td>\n",
       "    </tr>\n",
       "    <tr>\n",
       "      <th>12030</th>\n",
       "      <td>0.001900</td>\n",
       "      <td>(0, 1, 7, 11, 12, 13, 14, 15, 16, 17)</td>\n",
       "    </tr>\n",
       "  </tbody>\n",
       "</table>\n",
       "<p>12031 rows × 2 columns</p>\n",
       "</div>"
      ],
      "text/plain": [
       "        support                               itemsets\n",
       "0      0.019602                                    (2)\n",
       "1      0.019602                                    (3)\n",
       "2      0.019702                                    (4)\n",
       "3      0.060506                                   (17)\n",
       "4      0.060506                                   (12)\n",
       "...         ...                                    ...\n",
       "12026  0.001900      (0, 1, 7, 12, 13, 14, 15, 16, 17)\n",
       "12027  0.001900      (0, 1, 7, 11, 12, 13, 14, 15, 17)\n",
       "12028  0.001900      (0, 1, 7, 11, 13, 14, 15, 16, 17)\n",
       "12029  0.001900      (0, 1, 7, 11, 12, 13, 14, 15, 16)\n",
       "12030  0.001900  (0, 1, 7, 11, 12, 13, 14, 15, 16, 17)\n",
       "\n",
       "[12031 rows x 2 columns]"
      ]
     },
     "execution_count": 33,
     "metadata": {},
     "output_type": "execute_result"
    },
    {
     "name": "stdout",
     "output_type": "stream",
     "text": [
      "time: 531 ms (started: 2021-06-03 17:34:25 +06:00)\n"
     ]
    }
   ],
   "source": [
    "fpgrowth(df, min_support=0.0015)"
   ]
  },
  {
   "cell_type": "code",
   "execution_count": null,
   "id": "ff01cd64",
   "metadata": {},
   "outputs": [],
   "source": []
  }
 ],
 "metadata": {
  "kernelspec": {
   "display_name": "Python 3",
   "language": "python",
   "name": "python3"
  },
  "language_info": {
   "codemirror_mode": {
    "name": "ipython",
    "version": 3
   },
   "file_extension": ".py",
   "mimetype": "text/x-python",
   "name": "python",
   "nbconvert_exporter": "python",
   "pygments_lexer": "ipython3",
   "version": "3.8.8"
  }
 },
 "nbformat": 4,
 "nbformat_minor": 5
}
